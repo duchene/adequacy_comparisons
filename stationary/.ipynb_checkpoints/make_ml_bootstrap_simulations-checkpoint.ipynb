{
 "cells": [
  {
   "cell_type": "code",
   "execution_count": 2,
   "metadata": {
    "collapsed": false
   },
   "outputs": [],
   "source": [
    "library(NELSI)\n",
    "library(phangorn)"
   ]
  },
  {
   "cell_type": "code",
   "execution_count": 3,
   "metadata": {
    "collapsed": true
   },
   "outputs": [],
   "source": [
    "ml_dat <- read.table('statlong.1.Lboot.gtrg.cvs', head = T, sep = ',', stringsAsFactors = F)"
   ]
  },
  {
   "cell_type": "code",
   "execution_count": 4,
   "metadata": {
    "collapsed": false
   },
   "outputs": [],
   "source": [
    "c.rec <- function(b_list){\n",
    "    if(length(b_list) == 1){\n",
    "        return(b_list)\n",
    "    }else if(length(b_list) == 2){\n",
    "        return(c(b_list[[1]], b_list[[2]]))\n",
    "    }else{\n",
    "        return(c(b_list[[1]], c.rec(b_list[-1])))\n",
    "    }\n",
    "}"
   ]
  },
  {
   "cell_type": "code",
   "execution_count": null,
   "metadata": {
    "collapsed": false
   },
   "outputs": [],
   "source": []
  },
  {
   "cell_type": "code",
   "execution_count": 5,
   "metadata": {
    "collapsed": false
   },
   "outputs": [],
   "source": [
    "trees <- lapply(ml_dat$tree, function(tr) read.tree(text = tr))"
   ]
  },
  {
   "cell_type": "code",
   "execution_count": 6,
   "metadata": {
    "collapsed": false
   },
   "outputs": [],
   "source": [
    "tl <- sapply(trees, function(tr) sum(tr$edge.length))"
   ]
  },
  {
   "cell_type": "code",
   "execution_count": 7,
   "metadata": {
    "collapsed": false
   },
   "outputs": [],
   "source": [
    "boot_files <- dir(pattern = 'cvs')\n",
    "for(b in boot_files){\n",
    "    folder_name <- gsub('[.]cvs', '_folder', b)\n",
    "    system(paste('mkdir', folder_name))\n",
    "    boot_data <- read.table(b, head = T, sep = ',', stringsAsFactors = F)\n",
    "    \n",
    "    if(ncol(boot_data) == 1){\n",
    "        for(n in 1:nrow(boot_data)){\n",
    "            tr <- read.tree(text = boot_data$tree[n])\n",
    "            seq <- as.DNAbin(simSeq(tr))\n",
    "            write.dna(seq, paste0(folder_name, '/', 'rep', n, '.phy'))\n",
    "        }\n",
    "    }else{\n",
    "        for(n in 1:nrow(boot_data)){\n",
    "            tr <- read.tree(text = boot_data$tree[n])\n",
    "            rates <- phangorn::discrete.gamma(alpha = boot_data$alpha[n], k = 4) \n",
    "            if(any(rates < 0.01)) rates <- rates + 0.01\n",
    "            seq_list <- lapply(rates, function(x) simSeq(tr, \n",
    "                    Q = as.numeric(boot_data[n, c('ac', 'ag', 'at', 'cg', 'ct', 'gt')]),\n",
    "                    bf = as.numeric(boot_data[n, c('a', 'c', 'g', 't')]), l = 250, rate = x))\n",
    "            seq <- as.DNAbin(c.rec(seq_list))\n",
    "            write.dna(seq, paste0(folder_name, '/', 'rep', n, '.phy'))\n",
    "            }\n",
    "    }\n",
    "}"
   ]
  },
  {
   "cell_type": "code",
   "execution_count": 8,
   "metadata": {
    "collapsed": false
   },
   "outputs": [
    {
     "data": {
      "text/plain": [
       "20 DNA sequences in binary format stored in a matrix.\n",
       "\n",
       "All sequences of same length: 1000 \n",
       "\n",
       "Labels: t15 t18 t3 t9 t20 t11 ...\n",
       "\n",
       "Base composition:\n",
       "    a     c     g     t \n",
       "0.266 0.257 0.234 0.243 "
      ]
     },
     "execution_count": 8,
     "metadata": {},
     "output_type": "execute_result"
    }
   ],
   "source": [
    "seq"
   ]
  },
  {
   "cell_type": "code",
   "execution_count": null,
   "metadata": {
    "collapsed": false
   },
   "outputs": [],
   "source": []
  },
  {
   "cell_type": "code",
   "execution_count": 87,
   "metadata": {
    "collapsed": false
   },
   "outputs": [],
   "source": []
  },
  {
   "cell_type": "code",
   "execution_count": null,
   "metadata": {
    "collapsed": false
   },
   "outputs": [],
   "source": []
  },
  {
   "cell_type": "code",
   "execution_count": null,
   "metadata": {
    "collapsed": true
   },
   "outputs": [],
   "source": []
  }
 ],
 "metadata": {
  "kernelspec": {
   "display_name": "R",
   "language": "R",
   "name": "ir"
  },
  "language_info": {
   "codemirror_mode": "r",
   "file_extension": ".r",
   "mimetype": "text/x-r-source",
   "name": "R",
   "pygments_lexer": "r",
   "version": "3.2.2"
  }
 },
 "nbformat": 4,
 "nbformat_minor": 0
}
